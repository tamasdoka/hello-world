{
  "nbformat": 4,
  "nbformat_minor": 0,
  "metadata": {
    "colab": {
      "name": "1st_small_hw_bl8lqu.ipynb",
      "provenance": [],
      "collapsed_sections": [],
      "include_colab_link": true
    },
    "kernelspec": {
      "name": "python3",
      "display_name": "Python 3"
    }
  },
  "cells": [
    {
      "cell_type": "markdown",
      "metadata": {
        "id": "view-in-github",
        "colab_type": "text"
      },
      "source": [
        "<a href=\"https://colab.research.google.com/github/tamasdoka/hello-world/blob/master/1st_small_hw_bl8lqu.ipynb\" target=\"_parent\"><img src=\"https://colab.research.google.com/assets/colab-badge.svg\" alt=\"Open In Colab\"/></a>"
      ]
    },
    {
      "cell_type": "code",
      "metadata": {
        "id": "8YEeGw6sfI8i",
        "colab_type": "code",
        "colab": {}
      },
      "source": [
        "#First exercise, reading images by pixels"
      ],
      "execution_count": 0,
      "outputs": []
    },
    {
      "cell_type": "code",
      "metadata": {
        "id": "0tjZWklhiatc",
        "colab_type": "code",
        "colab": {}
      },
      "source": [
        "import cv2\n",
        "import numpy as np\n",
        "from google.colab.patches import cv2_imshow"
      ],
      "execution_count": 0,
      "outputs": []
    },
    {
      "cell_type": "code",
      "metadata": {
        "id": "ImJ-mUpnidBI",
        "colab_type": "code",
        "outputId": "0831e219-1644-4dca-81e3-eb68abb95f1d",
        "colab": {
          "base_uri": "https://localhost:8080/",
          "height": 1000
        }
      },
      "source": [
        "#Reading 128x128 images from local files named im0x.png\n",
        "\n",
        "#Number of pictures\n",
        "length = 5\n",
        "\n",
        "#Initializing an empty array with the size of the pictures and color depth, to store them\n",
        "arrayOfImages = np.empty(shape=(length,128,128,3))\n",
        "\n",
        "for x in range(length):\n",
        "  #Reading into the array\n",
        "  arrayOfImages[x] = cv2.imread('im0'+ str(x+1)+'.png', cv2.IMREAD_COLOR)\n",
        "  \n",
        "  #Showing the images\n",
        "  print('im0'+ str(x+1)+'.png')\n",
        "  cv2_imshow(arrayOfImages[x])\n",
        "  print('\\nChannel R[0], G[1], B[2]')\n",
        "\n",
        "  #Printing the Red (0), Green (1) and Blue (2) channel\n",
        "  for y in range(3):\n",
        "    print(\"Channel\", y)\n",
        "    print(arrayOfImages[x,:,:,y])\n",
        "\n"
      ],
      "execution_count": 0,
      "outputs": [
        {
          "output_type": "stream",
          "text": [
            "im01.png\n"
          ],
          "name": "stdout"
        },
        {
          "output_type": "display_data",
          "data": {
            "image/png": "[encoded data removed]",
            "text/plain": [
              "<PIL.Image.Image image mode=RGB size=128x128 at 0x7F8A691B3550>"
            ]
          },
          "metadata": {
            "tags": []
          }
        },
        {
          "output_type": "stream",
          "text": [
            "\n",
            "Channel R[0], G[1], B[2]\n",
            "Channel 0\n",
            "[[255. 255. 255. ... 255. 255. 255.]\n",
            " [255. 255. 255. ... 255. 255. 255.]\n",
            " [255. 255. 255. ... 255. 255. 255.]\n",
            " ...\n",
            " [255. 255. 255. ... 255. 255. 255.]\n",
            " [255. 255. 255. ... 255. 255. 255.]\n",
            " [255. 255. 255. ... 255. 255. 255.]]\n",
            "Channel 1\n",
            "[[255. 255. 255. ... 255. 255. 255.]\n",
            " [255. 255. 255. ... 255. 255. 255.]\n",
            " [255. 255. 255. ... 255. 255. 255.]\n",
            " ...\n",
            " [255. 255. 255. ... 255. 255. 255.]\n",
            " [255. 255. 255. ... 255. 255. 255.]\n",
            " [255. 255. 255. ... 255. 255. 255.]]\n",
            "Channel 2\n",
            "[[255. 255. 255. ... 255. 255. 255.]\n",
            " [255. 255. 255. ... 255. 255. 255.]\n",
            " [255. 255. 255. ... 255. 255. 255.]\n",
            " ...\n",
            " [255. 255. 255. ... 255. 255. 255.]\n",
            " [255. 255. 255. ... 255. 255. 255.]\n",
            " [255. 255. 255. ... 255. 255. 255.]]\n",
            "im02.png\n"
          ],
          "name": "stdout"
        },
        {
          "output_type": "display_data",
          "data": {
            "image/png": "[encoded data removed]",
            "text/plain": [
              "<PIL.Image.Image image mode=RGB size=128x128 at 0x7F8A69129F98>"
            ]
          },
          "metadata": {
            "tags": []
          }
        },
        {
          "output_type": "stream",
          "text": [
            "\n",
            "Channel R[0], G[1], B[2]\n",
            "Channel 0\n",
            "[[255. 255. 255. ... 255. 255. 255.]\n",
            " [255. 255. 255. ... 255. 255. 255.]\n",
            " [255. 255. 255. ... 255. 255. 255.]\n",
            " ...\n",
            " [255. 255. 255. ... 255. 255. 255.]\n",
            " [255. 255. 255. ... 255. 255. 255.]\n",
            " [255. 255. 255. ... 255. 255. 255.]]\n",
            "Channel 1\n",
            "[[255. 255. 255. ... 255. 255. 255.]\n",
            " [255. 255. 255. ... 255. 255. 255.]\n",
            " [255. 255. 255. ... 255. 255. 255.]\n",
            " ...\n",
            " [255. 255. 255. ... 255. 255. 255.]\n",
            " [255. 255. 255. ... 255. 255. 255.]\n",
            " [255. 255. 255. ... 255. 255. 255.]]\n",
            "Channel 2\n",
            "[[255. 255. 255. ... 255. 255. 255.]\n",
            " [255. 255. 255. ... 255. 255. 255.]\n",
            " [255. 255. 255. ... 255. 255. 255.]\n",
            " ...\n",
            " [255. 255. 255. ... 255. 255. 255.]\n",
            " [255. 255. 255. ... 255. 255. 255.]\n",
            " [255. 255. 255. ... 255. 255. 255.]]\n",
            "im03.png\n"
          ],
          "name": "stdout"
        },
        {
          "output_type": "display_data",
          "data": {
            "image/png": "[encoded data removed]",
            "text/plain": [
              "<PIL.Image.Image image mode=RGB size=128x128 at 0x7F8A691B3630>"
            ]
          },
          "metadata": {
            "tags": []
          }
        },
        {
          "output_type": "stream",
          "text": [
            "\n",
            "Channel R[0], G[1], B[2]\n",
            "Channel 0\n",
            "[[255. 255. 255. ... 255. 255. 255.]\n",
            " [255. 255. 255. ... 255. 255. 255.]\n",
            " [255. 255. 255. ... 255. 255. 255.]\n",
            " ...\n",
            " [255. 255. 255. ... 255. 255. 255.]\n",
            " [255. 255. 255. ... 255. 255. 255.]\n",
            " [255. 255. 255. ... 255. 255. 255.]]\n",
            "Channel 1\n",
            "[[255. 255. 255. ... 255. 255. 255.]\n",
            " [255. 255. 255. ... 255. 255. 255.]\n",
            " [255. 255. 255. ... 255. 255. 255.]\n",
            " ...\n",
            " [255. 255. 255. ... 255. 255. 255.]\n",
            " [255. 255. 255. ... 255. 255. 255.]\n",
            " [255. 255. 255. ... 255. 255. 255.]]\n",
            "Channel 2\n",
            "[[255. 255. 255. ... 255. 255. 255.]\n",
            " [255. 255. 255. ... 255. 255. 255.]\n",
            " [255. 255. 255. ... 255. 255. 255.]\n",
            " ...\n",
            " [255. 255. 255. ... 255. 255. 255.]\n",
            " [255. 255. 255. ... 255. 255. 255.]\n",
            " [255. 255. 255. ... 255. 255. 255.]]\n",
            "im04.png\n"
          ],
          "name": "stdout"
        },
        {
          "output_type": "display_data",
          "data": {
            "image/png": "[encoded data removed]",
            "text/plain": [
              "<PIL.Image.Image image mode=RGB size=128x128 at 0x7F8A691B3438>"
            ]
          },
          "metadata": {
            "tags": []
          }
        },
        {
          "output_type": "stream",
          "text": [
            "\n",
            "Channel R[0], G[1], B[2]\n",
            "Channel 0\n",
            "[[0. 0. 0. ... 0. 0. 0.]\n",
            " [0. 0. 0. ... 0. 0. 0.]\n",
            " [0. 0. 0. ... 0. 0. 0.]\n",
            " ...\n",
            " [0. 0. 0. ... 0. 0. 0.]\n",
            " [0. 0. 0. ... 0. 0. 0.]\n",
            " [0. 0. 0. ... 0. 0. 0.]]\n",
            "Channel 1\n",
            "[[0. 0. 0. ... 0. 0. 0.]\n",
            " [0. 0. 0. ... 0. 0. 0.]\n",
            " [0. 0. 0. ... 0. 0. 0.]\n",
            " ...\n",
            " [0. 0. 0. ... 0. 0. 0.]\n",
            " [0. 0. 0. ... 0. 0. 0.]\n",
            " [0. 0. 0. ... 0. 0. 0.]]\n",
            "Channel 2\n",
            "[[0. 0. 0. ... 0. 0. 0.]\n",
            " [0. 0. 0. ... 0. 0. 0.]\n",
            " [0. 0. 0. ... 0. 0. 0.]\n",
            " ...\n",
            " [0. 0. 0. ... 0. 0. 0.]\n",
            " [0. 0. 0. ... 0. 0. 0.]\n",
            " [0. 0. 0. ... 0. 0. 0.]]\n",
            "im05.png\n"
          ],
          "name": "stdout"
        },
        {
          "output_type": "display_data",
          "data": {
            "image/png": "[encoded data removed]",
            "text/plain": [
              "<PIL.Image.Image image mode=RGB size=128x128 at 0x7F8A69139630>"
            ]
          },
          "metadata": {
            "tags": []
          }
        },
        {
          "output_type": "stream",
          "text": [
            "\n",
            "Channel R[0], G[1], B[2]\n",
            "Channel 0\n",
            "[[0. 0. 0. ... 0. 0. 0.]\n",
            " [0. 0. 0. ... 0. 0. 0.]\n",
            " [0. 0. 0. ... 0. 0. 0.]\n",
            " ...\n",
            " [0. 0. 0. ... 0. 0. 0.]\n",
            " [0. 0. 0. ... 0. 0. 0.]\n",
            " [0. 0. 0. ... 0. 0. 0.]]\n",
            "Channel 1\n",
            "[[0. 0. 0. ... 0. 0. 0.]\n",
            " [0. 0. 0. ... 0. 0. 0.]\n",
            " [0. 0. 0. ... 0. 0. 0.]\n",
            " ...\n",
            " [0. 0. 0. ... 0. 0. 0.]\n",
            " [0. 0. 0. ... 0. 0. 0.]\n",
            " [0. 0. 0. ... 0. 0. 0.]]\n",
            "Channel 2\n",
            "[[0. 0. 0. ... 0. 0. 0.]\n",
            " [0. 0. 0. ... 0. 0. 0.]\n",
            " [0. 0. 0. ... 0. 0. 0.]\n",
            " ...\n",
            " [0. 0. 0. ... 0. 0. 0.]\n",
            " [0. 0. 0. ... 0. 0. 0.]\n",
            " [0. 0. 0. ... 0. 0. 0.]]\n"
          ],
          "name": "stdout"
        }
      ]
    },
    {
      "cell_type": "code",
      "metadata": {
        "id": "wfIA0Ek8mdGw",
        "colab_type": "code",
        "outputId": "af122ab3-7da8-44a0-ceac-1006342ae47f",
        "colab": {
          "base_uri": "https://localhost:8080/",
          "height": 527
        }
      },
      "source": [
        "#Exercise two: computing mean and standard deviation of pixel values using all images\n",
        "#Computing average pixel value per channel\n",
        "\n",
        "arrayOfPixelAverages = np.empty(shape=(length,3))\n",
        "\n",
        "#First computing the channel averages for each image\n",
        "for x in range(length):\n",
        "  print(\"Image number:\", (x+1))\n",
        "  #For each channel\n",
        "  for y in range(3):\n",
        "    arrayOfPixelAverages[x,y] = np.average(arrayOfImages[x,:,:,y])\n",
        "    print(arrayOfPixelAverages[x,y])\n",
        "  print(\"\\n\")"
      ],
      "execution_count": 0,
      "outputs": [
        {
          "output_type": "stream",
          "text": [
            "Image number: 1\n",
            "148.8697509765625\n",
            "183.7164306640625\n",
            "191.99041748046875\n",
            "\n",
            "\n",
            "Image number: 2\n",
            "49.43115234375\n",
            "49.43115234375\n",
            "49.43115234375\n",
            "\n",
            "\n",
            "Image number: 3\n",
            "118.4149169921875\n",
            "129.66680908203125\n",
            "171.509765625\n",
            "\n",
            "\n",
            "Image number: 4\n",
            "147.12335205078125\n",
            "115.81243896484375\n",
            "206.62677001953125\n",
            "\n",
            "\n",
            "Image number: 5\n",
            "69.53118896484375\n",
            "63.00439453125\n",
            "84.51434326171875\n",
            "\n",
            "\n"
          ],
          "name": "stdout"
        }
      ]
    },
    {
      "cell_type": "code",
      "metadata": {
        "id": "qf_3cB1JoLkA",
        "colab_type": "code",
        "outputId": "acd98461-554c-4525-8706-96215c6dd5a0",
        "colab": {
          "base_uri": "https://localhost:8080/",
          "height": 68
        }
      },
      "source": [
        "#Computing the overall channel average (R,G,B) from the image averages\n",
        "\n",
        "channelAverage = np.empty(shape=(3))\n",
        "\n",
        "#For one channel\n",
        "for y in range(3):\n",
        "  channelAverage[y] = np.average(arrayOfPixelAverages[:,y])\n",
        "  print(\"Channel average\",y,\": \", channelAverage[y])"
      ],
      "execution_count": 0,
      "outputs": [
        {
          "output_type": "stream",
          "text": [
            "Channel average 0 :  106.674072265625\n",
            "Channel average 1 :  108.3262451171875\n",
            "Channel average 2 :  140.81448974609376\n"
          ],
          "name": "stdout"
        }
      ]
    },
    {
      "cell_type": "code",
      "metadata": {
        "id": "vP8CNyYFoOBo",
        "colab_type": "code",
        "outputId": "789e7543-ba45-4792-8c8f-77c641adec6d",
        "colab": {
          "base_uri": "https://localhost:8080/",
          "height": 68
        }
      },
      "source": [
        "#Computing standard deviation\n",
        "\n",
        "#Initializing an array for calcutation with zeros\n",
        "stdValArray = np.zeros(shape = (3,128,128))\n",
        "\n",
        "#Another array to store the channel variances\n",
        "variance = np.empty([3,1])\n",
        "#Standard deviation for one channel: stdDev = sqrt(sum(x - average)^2/N), where x is a pixel value, average is the mean of the channel, N is the number of examined pixels.\n",
        "#Sum of the squared difference from channel average of pixels [sum(x-average)^2] per channel\n",
        "for y in range(3):\n",
        "  for x in range(length):\n",
        "    stdValArray[y,:,:] = stdValArray[y,:,:] + (arrayOfImages[x,:,:,y] - channelAverage[y])**2\n",
        "  \n",
        "  #Calculating the variance for each channel\n",
        "  variance[y] = np.sum(stdValArray[y,:,:])/np.prod(arrayOfImages.shape)\n",
        "#Calculating the standard deviation for each channel  \n",
        "stdDev = np.sqrt(variance)\n",
        "\n",
        "print(\"Standard deviation for channel R:\", stdDev[0])\n",
        "print(\"Standard deviation for channel G:\", stdDev[1])\n",
        "print(\"Standard deviation for channel B:\", stdDev[2])"
      ],
      "execution_count": 0,
      "outputs": [
        {
          "output_type": "stream",
          "text": [
            "Standard deviation for channel R: [61.04602188]\n",
            "Standard deviation for channel G: [60.35192623]\n",
            "Standard deviation for channel B: [67.26048234]\n"
          ],
          "name": "stdout"
        }
      ]
    },
    {
      "cell_type": "code",
      "metadata": {
        "id": "oVWMVjT_LzZQ",
        "colab_type": "code",
        "outputId": "087324e0-01bc-44b6-ecee-fe90a33f4714",
        "colab": {
          "base_uri": "https://localhost:8080/",
          "height": 119
        }
      },
      "source": [
        "#Standardizing the original images\n",
        "\n",
        "for x in range(length):\n",
        "  for y in range(3):\n",
        "    arrayOfImages[x,:,:,y] = (arrayOfImages[x,:,:,y] - channelAverage[y])/stdDev[y]\n",
        "\n",
        "#Checking the results for average and standard deviation by doing the same as before\n",
        "\n",
        "#Computing the channel average for each image\n",
        "for x in range(length):\n",
        "  #For each channel\n",
        "  for y in range(3):\n",
        "    arrayOfPixelAverages[x,y] = np.average(arrayOfImages[x,:,:,y])\n",
        "\n",
        "#Computing the channel average (R,G,B)\n",
        "channelAverage = np.empty(shape=(3))\n",
        "\n",
        "#For one channel\n",
        "for y in range(3):\n",
        "  channelAverage[y] = np.average(arrayOfPixelAverages[:,y])\n",
        "  print(\"Channel average\",y,\": \", channelAverage[y])\n",
        "\n",
        "#Initializing an array for calcutation with zeros\n",
        "stdValArray = np.zeros(shape = (3,128,128))\n",
        "\n",
        "variance = np.empty([3,1])\n",
        "\n",
        "#Summary of the squared difference of pixel values per channel\n",
        "for y in range(3):\n",
        "  for x in range(length):\n",
        "    stdValArray[y,:,:] = stdValArray[y,:,:] + (arrayOfImages[x,:,:,y] - channelAverage[y])**2\n",
        "  \n",
        "  #Calculating the variance for each channel\n",
        "  variance[y] = np.sum(stdValArray[y,:,:])/np.prod(arrayOfImages.shape)\n",
        "#Calculating the standard deviation for each channel  \n",
        "stdDev = np.sqrt(variance)\n",
        "\n",
        "print(\"Standard deviation for channel R:\", stdDev[0])\n",
        "print(\"Standard deviation for channel G:\", stdDev[1])\n",
        "print(\"Standard deviation for channel B:\", stdDev[2])"
      ],
      "execution_count": 0,
      "outputs": [
        {
          "output_type": "stream",
          "text": [
            "Channel average 0 :  1.1102230246251565e-16\n",
            "Channel average 1 :  -1.1102230246251565e-16\n",
            "Channel average 2 :  -2.2204460492503132e-17\n",
            "Standard deviation for channel R: [1.]\n",
            "Standard deviation for channel G: [1.]\n",
            "Standard deviation for channel B: [1.]\n"
          ],
          "name": "stdout"
        }
      ]
    },
    {
      "cell_type": "code",
      "metadata": {
        "id": "Icr8DP2VXZPg",
        "colab_type": "code",
        "outputId": "df48f8c0-dd4c-4c58-81c2-f3fd0418244f",
        "colab": {
          "base_uri": "https://localhost:8080/",
          "height": 1000
        }
      },
      "source": [
        "#Exercise three\n",
        "\n",
        "#Import api\n",
        "import requests \n",
        "from bs4 import BeautifulSoup  \n",
        "\n",
        "#Reading the content of the webpage\n",
        "page = requests.get('https://blog.keras.io/the-future-of-deep-learning.html').content\n",
        "\n",
        "soup = BeautifulSoup(page, \"html.parser\")\n",
        "\n",
        "#Getting scripts out from the content\n",
        "for script in soup([\"script\", \"style\"]):\n",
        "  script.decompose()\n",
        "\n",
        "#Extracting the text from html code (including every text: button labels, headers, etc)\n",
        "text = soup.get_text()\n",
        "\n",
        "print('Text content of the webpage:')\n",
        "print(text)\n"
      ],
      "execution_count": 0,
      "outputs": [
        {
          "output_type": "stream",
          "text": [
            "Text content of the webpage:\n",
            "\n",
            "\n",
            "\n",
            "The future of deep learning\n",
            "\n",
            "\n",
            "\n",
            "\n",
            "\n",
            "\n",
            "\n",
            "\n",
            "\n",
            "\n",
            "\n",
            "\n",
            "The Keras Blog \n",
            "\n",
            "\n",
            "Keras is a Deep Learning library for Python, that is simple, modular, and extensible.\n",
            "                \n",
            "\n",
            "Archives\n",
            "\n",
            "Github\n",
            "\n",
            "\n",
            "Documentation\n",
            "\n",
            "\n",
            "Google Group\n",
            "\n",
            "\n",
            "\n",
            "\n",
            "\n",
            " The future of deep learning \n",
            "\n",
            "\n",
            "\n",
            "                Tue 18 July 2017\n",
            "        \n",
            "\n",
            "                By Francois Chollet\n",
            "\n",
            "In Essays. \n",
            "\n",
            "This post is adapted from Section 3 of Chapter 9 of my book, Deep Learning with Python (Manning Publications). \n",
            "\n",
            "It is part of a series of two posts on the current limitations of deep learning, and its future. \n",
            "You can read the first part here: The Limitations of Deep Learning.\n",
            "\n",
            "Given what we know of how deep nets work, of their limitations, and of the current state of the research landscape, \n",
            "can we predict where things are headed in the medium term? Here are some purely personal thoughts. Note that I don't have a crystal ball, \n",
            "so a lot of what I anticipate might fail to become reality. This is a completely speculative post. \n",
            "I am sharing these predictions not because I expect them to be proven \n",
            "completely right in the future, but because they are interesting and actionable in the present.\n",
            "At a high-level, the main directions in which I see promise are:\n",
            "\n",
            "Models closer to general-purpose computer programs, built on top of far richer primitives than our current differentiable layers—this \n",
            "is how we will get to reasoning and abstraction, the fundamental weakness of current models.\n",
            "New forms of learning that make the above possible—allowing models to move away from just differentiable transforms.\n",
            "Models that require less involvement from human engineers—it shouldn't be your job to tune knobs endlessly.\n",
            "Greater, systematic reuse of previously learned features and architectures; meta-learning systems based on reusable and modular program \n",
            "subroutines.\n",
            "\n",
            "Additionally, do note that these considerations are not specific to the sort of supervised learning that has been the bread and butter of \n",
            "deep learning so far—rather, they are applicable to any form of machine learning, including unsupervised, self-supervised, and \n",
            "reinforcement learning. It is not fundamentally important where your labels come from or what your training loop looks like; \n",
            "these different branches of machine learning are just different facets of a same construct.\n",
            "Let's dive in.\n",
            "Models as programs\n",
            "As we noted in our previous post, a necessary transformational development that we can expect in the field of machine learning is a move away \n",
            "from models that perform purely pattern recognition and can only achieve local generalization, towards models capable of abstraction and \n",
            "reasoning, that can achieve extreme generalization. Current AI programs that are capable of basic forms of reasoning are all hard-coded \n",
            "by human programmers: for instance, software that relies on search algorithms, graph manipulation, formal logic. \n",
            "In DeepMind's AlphaGo, for example, most of the \"intelligence\" on display is designed and hard-coded by expert programmers (e.g. Monte-Carlo tree search); \n",
            "learning from data only happens in specialized submodules (value networks and policy networks). \n",
            "But in the future, such AI systems may well be fully learned, with no human involvement.\n",
            "What could be the path to make this happen? Consider a well-known type of network: RNNs. \n",
            "Importantly, RNNs have slightly less limitations than feedforward networks. \n",
            "That is because RNNs are a bit more than a mere geometric transformation: they are geometric transformations repeatedly applied inside a for \n",
            "loop. The temporal for loop is itself hard-coded by human developers: it is a built-in assumption of the network. Naturally, RNNs are \n",
            "still extremely limited in what they can represent, primarily because each step they perform is still just a differentiable geometric \n",
            "transformation, and the way they carry information from step to step is via points in a continuous geometric space (state vectors). Now, \n",
            "imagine neural networks that would be \"augmented\" in a similar way with programming primitives such as for loops—but not just a single \n",
            "hard-coded for loop with a hard-coded geometric memory, rather, a large set of programming primitives that the model would be free to manipulate to expand its \n",
            "processing function, such as if branches, while statements, variable creation, disk storage for long-term memory, \n",
            "sorting operators, advanced datastructures like lists, graphs, and hashtables, and many more. \n",
            "The space of programs that such a network could represent would be far broader than what can be represented with current deep learning models, \n",
            "and some of these programs could achieve superior generalization power.\n",
            "In a word, we will move away from having on one hand \"hard-coded algorithmic intelligence\" (handcrafted software) and on the other hand \n",
            "\"learned geometric intelligence\" (deep learning). We will have instead a blend of formal algorithmic modules that provide reasoning and \n",
            "abstraction capabilities, and geometric modules that provide informal intuition and pattern recognition capabilities. The whole system would be \n",
            "learned with little or no human involvement.\n",
            "A related subfield of AI that I think may be about to take off in a big way is that of program synthesis, in particular neural program \n",
            "synthesis. Program synthesis consists in automatically generating simple programs, by using a search algorithm (possibly genetic search, as \n",
            "in genetic programming) to explore a large space of possible programs. The search stops when a program is found that matches the required \n",
            "specifications, often provided as a set of input-output pairs. As you can see, is it highly reminiscent of machine learning: given \n",
            "\"training data\" provided as input-output pairs, we find a \"program\" that matches inputs to outputs and can generalize to new inputs. The \n",
            "difference is that instead of learning parameter values in a hard-coded program (a neural network), \n",
            "we generate source code via a discrete search process.\n",
            "I would definitely expect this subfield to see a wave of renewed interest in the next few years. In particular, I would expect the \n",
            "emergence of a crossover subfield in-between deep learning and program synthesis, where we would not quite be generating programs in a \n",
            "general-purpose language, but rather, where we would be generating neural networks (geometric data processing flows) augmented with a \n",
            "rich set of algorithmic primitives, such as for loops—and many others. This should be far more tractable and useful than directly \n",
            "generating source code, and it would dramatically expand the scope of problems that can be solved with machine learning—the space of programs \n",
            "that we can generate automatically given appropriate training data. A blend of symbolic AI and geometric AI. \n",
            "Contemporary RNNs can be seen as a prehistoric ancestor to such hybrid algorithmic-geometric models.\n",
            "\n",
            "Figure: A learned program relying on both geometric primitives (pattern recognition, intuition) and algorithmic primitives (reasoning, search, memory).\n",
            "Beyond backpropagation and differentiable layers\n",
            "If machine learning models become more like programs, then they will mostly no longer be differentiable—certainly, these programs will \n",
            "still leverage continuous geometric layers as subroutines, which will be differentiable, but the model as a whole would not be. As a \n",
            "result, using backpropagation to adjust weight values in a fixed, hard-coded network, cannot be the method of choice for training models in the \n",
            "future—at least, it cannot be the whole story. We need to figure out to train non-differentiable systems efficiently. Current approaches \n",
            "include genetic algorithms, \"evolution strategies\", certain reinforcement learning methods, \n",
            "and ADMM (alternating direction method of multipliers). \n",
            "Naturally, gradient descent is not going anywhere—gradient information will always be useful for optimizing differentiable parametric functions. But our models \n",
            "will certainly become increasingly more ambitious than mere differentiable parametric functions, \n",
            "and thus their automatic development (the \"learning\" in \"machine learning\") will require more than backpropagation.\n",
            "Besides, backpropagation is end-to-end, which is a great thing for learning good chained transformations, but is rather computationally \n",
            "inefficient since it doesn't fully leverage the modularity of deep networks. To make something more efficient, there is one universal \n",
            "recipe: introduce modularity and hierarchy. So we can make backprop itself more efficient by introducing decoupled training modules with some \n",
            "synchronization mechanism between them, organized in a hierarchical fashion. This strategy is somewhat reflected in DeepMind's recent work \n",
            "on \"synthetic gradients\". I would expect more more work along these lines in the near future.\n",
            "One can imagine a future where models that would be globally non-differentiable (but would feature differentiable parts) would be \n",
            "trained—grown—using an efficient search process that would not leverage gradients, while the differentiable parts would be trained even faster \n",
            "by taking advantage of gradients using some more efficient version of backpropagation.\n",
            "Automated machine learning\n",
            "In the future, model architectures will be learned, rather than handcrafted by engineer-artisans. Learning architectures automatically goes \n",
            "hand in hand with the use of richer sets of primitives and program-like machine learning models.\n",
            "Currently, most of the job of a deep learning engineer consists in munging data with Python scripts, then lengthily tuning the architecture \n",
            "and hyperparameters of a deep network to get a working model—or even, to get to a state-of-the-art model, if the engineer is so \n",
            "ambitious. Needless to say, that is not an optimal setup. But AI can help there too. Unfortunately, the data munging part is tough to \n",
            "automate, since it often requires domain knowledge as well as a clear high-level understanding of what the engineer wants to achieve. \n",
            "Hyperparameter tuning, however, is a simple search procedure, and we already know what the engineer wants to achieve in this case: it is \n",
            "defined by the loss function of the network being tuned. It is already common practice to set up basic \"AutoML\" systems that will take care \n",
            "of most of the model knob tuning. I even set up my own years ago to win Kaggle competitions.\n",
            "At the most basic level, such a system would simply tune the number of layers in a stack, their order, and the number of units or filters \n",
            "in each layer. This is commonly done with libraries such as Hyperopt, which we discussed in Chapter 7 \n",
            "(Note: of Deep Learning with Python). \n",
            "But we can also be far more \n",
            "ambitious, and attempt to learn an appropriate architecture from scratch, with as few constraints as possible. This is possible via \n",
            "reinforcement learning, for instance, or genetic algorithms.\n",
            "Another important AutoML direction is to learn model architecture jointly with model weights. Because training a new model from scratch \n",
            "every time we try a slightly different architecture is tremendously inefficient, a truly powerful AutoML system would manage to evolve \n",
            "architectures at the same time as the features of the model are being tuned via backprop on the training data, thus eliminating all computational redundancy. \n",
            "Such approaches are already starting to emerge as I am writing these lines.\n",
            "When this starts happening, the jobs of machine learning engineers will not disappear—rather, engineers will move higher up the value creation chain. \n",
            "They will start putting a lot more effort into crafting complex loss functions that truly reflect business goals, \n",
            "and understanding deeply how their models impact the digital ecosystems in which they are deployed \n",
            "(e.g. the users that consume the model's predictions and generate the model's training data)\n",
            "—problems that currently only the largest company can afford to consider.\n",
            "Lifelong learning and modular subroutine reuse\n",
            "If models get more complex and are built on top of richer algorithmic primitives, then this increased complexity will require higher \n",
            "reuse between tasks, rather than training a new model from scratch every time we have a new task or a new dataset. Indeed, a lot datasets \n",
            "would not contain enough information to develop a new complex model from scratch, and it will become necessary to leverage information \n",
            "coming from previously encountered datasets. Much like you don't learn English from scratch every time you open a new book—that would be \n",
            "impossible. Besides, training models from scratch on every new task is very inefficient due to the large overlap between the current tasks and \n",
            "previously encountered tasks.\n",
            "Additionally, a remarkable observation that has been made repeatedly in recent years is that training a same model to do several loosely \n",
            "connected tasks at the same time results in a model that is better at each task. For instance, training a same neural machine translation \n",
            "model to cover both English-to-German translation and French-to-Italian translation will result in a model that is better at each language \n",
            "pair. Training an image classification model jointly with an image segmentation model, sharing the same convolutional base, results in a \n",
            "model that is better at both tasks. And so on. This is fairly intuitive: there is always some information overlap between these seemingly \n",
            "disconnected tasks, and the joint model has thus access to a greater amount of information about each individual task than a model trained \n",
            "on that specific task only.\n",
            "What we currently do along the lines of model reuse across tasks is to leverage pre-trained weights for models that perform common \n",
            "functions, like visual feature extraction. You saw this in action in Chapter 5. In the future, I would expect a generalized version of this \n",
            "to be commonplace: we would not only leverage previously learned features (submodel weights), but also model architectures and training \n",
            "procedures. As models become more like programs, we would start reusing program subroutines, like the functions and classes found in \n",
            "human programming languages.\n",
            "Think of the process of software development today: once an engineer solves a specific problem (HTTP queries in Python, for instance), they \n",
            "will package it as an abstract and reusable library. Engineers that face a similar problem in the future can simply search for existing \n",
            "libraries, download one and use it in their own project. In a similar way, in the future, meta-learning systems will be able to assemble \n",
            "new programs by sifting through a global library of high-level reusable blocks. When the system would find itself developing similar \n",
            "program subroutines for several different tasks, if would come up with an \"abstract\", reusable version of the subroutine and would store it \n",
            "in the global library. Such a process would implement the capability for abstraction, a necessary component for achieving \"extreme \n",
            "generalization\": a subroutine that is found to be useful across different tasks and domains can be said to \"abstract\" some aspect of problem-solving. \n",
            "This definition of \"abstraction\" is similar to the notion of abstraction in software engineering. \n",
            "These subroutines could be either geometric (deep learning modules with pre-trained representations) \n",
            "or algorithmic (closer to the libraries that contemporary software engineers manipulate).\n",
            "\n",
            "Figure: A meta-learner capable of quickly developing task-specific models using reusable primitives (both algorithmic and geometric), thus achieving \"extreme generalization\".\n",
            "In summary: the long-term vision\n",
            "In short, here is my long-term vision for machine learning:\n",
            "\n",
            "Models will be more like programs, and will have capabilities that go far beyond the continuous geometric transformations of the input \n",
            "data that we currently work with. These programs will arguably be much closer to the abstract mental models that humans maintain about their \n",
            "surroundings and themselves, and they will be capable of stronger generalization due to their rich algorithmic nature.\n",
            "In particular, models will blend algorithmic modules providing formal reasoning, search, and abstraction capabilities, with geometric modules \n",
            "providing informal intuition and pattern recognition capabilities. \n",
            "AlphaGo (a system that required a lot of manual software engineering and human-made design decisions) \n",
            "provides an early example of what such a blend between symbolic and geometric AI could look like.\n",
            "They will be grown automatically rather than handcrafted by human engineers, using modular parts stored in a global library of reusable \n",
            "subroutines—a library evolved by learning high-performing models on thousands of previous tasks and datasets. As common problem-solving \n",
            "patterns are identified by the meta-learning system, they would be turned into a reusable subroutine—much like functions and classes in \n",
            "contemporary software engineering—and added to the global library. This achieves the capability for abstraction.\n",
            "This global library and associated model-growing system will be able to achieve some form of human-like \"extreme generalization\": given a \n",
            "new task, a new situation, the system would be able to assemble a new working model appropriate for the task using very little data, thanks \n",
            "to 1) rich program-like primitives that generalize well and 2) extensive experience with similar tasks. \n",
            "In the same way that humans can learn to play a complex new video \n",
            "game using very little play time because they have experience with many previous games, and because the models derived from this previous \n",
            "experience are abstract and program-like, rather than a basic mapping between stimuli and action.\n",
            "As such, this perpetually-learning model-growing system could be interpreted as an AGI—an Artificial General Intelligence. But don't \n",
            "expect any singularitarian robot apocalypse to ensue: that's a pure fantasy, coming from a long series of profound misunderstandings of \n",
            "both intelligence and technology. This critique, however, does not belong here.\n",
            "\n",
            "@fchollet, May 2017\n",
            "\n",
            "\n",
            "\n",
            "\n",
            "\n",
            "                Powered by pelican, which takes great advantages of python.\n",
            "                \n",
            "\n",
            "\n",
            "\n",
            "\n",
            "\n"
          ],
          "name": "stdout"
        }
      ]
    },
    {
      "cell_type": "code",
      "metadata": {
        "id": "_8vfZPgpaIRu",
        "colab_type": "code",
        "outputId": "b790bacc-af4a-4372-b727-a77f9aeed6b2",
        "colab": {
          "base_uri": "https://localhost:8080/",
          "height": 283
        }
      },
      "source": [
        "#Converting the text to lowercase and removing newline characters, to not make difference between 'A' and 'a' for example, and to not count 'n' characters for new lines.\n",
        "new_text = text.replace('\\n', '').lower()\n",
        "\n",
        "#Array for occurrence of letters\n",
        "charnum = []\n",
        "\n",
        "#Array for letters to label the plot\n",
        "tick_chars = []\n",
        "\n",
        "#Counting the occurrence of letters from a to z\n",
        "def char_range(c1, c2):\n",
        "    for c in range(ord(c1), ord(c2)+1):\n",
        "        yield chr(c)\n",
        "\n",
        "for char in char_range('a','z'):\n",
        "  charnum.append(new_text.count(char))\n",
        "  tick_chars.append(char)\n",
        "\n",
        "\n",
        "#Plotting the results\n",
        "import matplotlib.pyplot as plt\n",
        "\n",
        "#Creating the histogram with letter labeling\n",
        "plt.bar(tick_chars,charnum)\n",
        "plt.ylabel('Occurrence')\n",
        "plt.xlabel('Characters')\n",
        "plt.show()\n",
        "\n"
      ],
      "execution_count": 0,
      "outputs": [
        {
          "output_type": "display_data",
          "data": {
            "image/png": "[encoded data removed]",
            "text/plain": [
              "<Figure size 432x288 with 1 Axes>"
            ]
          },
          "metadata": {
            "tags": []
          }
        }
      ]
    },
    {
      "cell_type": "code",
      "metadata": {
        "id": "tuSjX-7GbLlv",
        "colab_type": "code",
        "outputId": "ee70e20c-1e79-4ae9-9d64-5f33d4d19c91",
        "colab": {
          "base_uri": "https://localhost:8080/",
          "height": 883
        }
      },
      "source": [
        "#Exercise four: reading and analysing a sound file\n",
        "\n",
        "import matplotlib.pyplot as plt\n",
        "\n",
        "#Import the api\n",
        "from scipy.fftpack import fft\n",
        "from scipy.io import wavfile\n",
        "from scipy import signal\n",
        "\n",
        "#Read data file(s) to check the results with a sinus wave\n",
        "sampleRate1, soundFile1 = wavfile.read('Alesis-Sanctuary-QCard-Crickets.wav')\n",
        "sampleRate2, soundFile2 = wavfile.read('audiocheck.net_sin_1000Hz_-3dBFS_3s.wav')\n",
        "\n",
        "#Plot one segment of the data to check the reading results\n",
        "plt.plot(soundFile1[100000:100100,0])\n",
        "plt.plot(soundFile2[100000:100100])\n",
        "plt.ylabel('Amplitude')\n",
        "plt.xlabel('Number of sample')\n",
        "plt.show()\n",
        "\n",
        "#Computing the spectrogram of soundFile1\n",
        "print('Fading out cricket noise')\n",
        "#Using only one channel of the sound file\n",
        "f, t, Sxx = signal.spectrogram(soundFile1[:,0], sampleRate1)\n",
        "plt.pcolormesh(t, f, Sxx)\n",
        "plt.ylabel('Frequency [Hz]')\n",
        "plt.xlabel('Time [sec]')\n",
        "#Plotting only the lower frequencies to see the results better\n",
        "plt.ylim(0,5000)\n",
        "plt.show()\n",
        "\n",
        "#Computing the spectrogram of soundFile2\n",
        "print('1000 Hz sine wave')\n",
        "f, t, Sxx = signal.spectrogram(soundFile2, sampleRate2)\n",
        "plt.pcolormesh(t, f, Sxx)\n",
        "plt.ylabel('Frequency [Hz]')\n",
        "plt.xlabel('Time [sec]')\n",
        "plt.ylim(0,5000)\n",
        "plt.show()"
      ],
      "execution_count": 0,
      "outputs": [
        {
          "output_type": "stream",
          "text": [
            "/usr/local/lib/python3.6/dist-packages/scipy/io/wavfile.py:273: WavFileWarning: Chunk (non-data) not understood, skipping it.\n",
            "  WavFileWarning)\n"
          ],
          "name": "stderr"
        },
        {
          "output_type": "display_data",
          "data": {
            "image/png": "[encoded data removed]",
            "text/plain": [
              "<Figure size 432x288 with 1 Axes>"
            ]
          },
          "metadata": {
            "tags": []
          }
        },
        {
          "output_type": "stream",
          "text": [
            "Fading out cricket noise\n"
          ],
          "name": "stdout"
        },
        {
          "output_type": "display_data",
          "data": {
            "image/png": "[encoded data removed]",
            "text/plain": [
              "<Figure size 432x288 with 1 Axes>"
            ]
          },
          "metadata": {
            "tags": []
          }
        },
        {
          "output_type": "stream",
          "text": [
            "1000 Hz sine wave\n"
          ],
          "name": "stdout"
        },
        {
          "output_type": "display_data",
          "data": {
            "image/png": "[encoded data removed]",
            "text/plain": [
              "<Figure size 432x288 with 1 Axes>"
            ]
          },
          "metadata": {
            "tags": []
          }
        }
      ]
    },
    {
      "cell_type": "code",
      "metadata": {
        "id": "l23V7zapUmm2",
        "colab_type": "code",
        "colab": {}
      },
      "source": [
        ""
      ],
      "execution_count": 0,
      "outputs": []
    }
  ]
}